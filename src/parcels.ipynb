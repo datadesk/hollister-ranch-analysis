{
 "cells": [
  {
   "cell_type": "markdown",
   "metadata": {},
   "source": [
    "# Hollister Ranch parcels"
   ]
  },
  {
   "cell_type": "code",
   "execution_count": 1,
   "metadata": {},
   "outputs": [],
   "source": [
    "import os\n",
    "import shapely\n",
    "import settings\n",
    "import geopandas as gpd"
   ]
  },
  {
   "cell_type": "markdown",
   "metadata": {},
   "source": [
    "### Parcels"
   ]
  },
  {
   "cell_type": "markdown",
   "metadata": {},
   "source": [
    "Read in county parcels file"
   ]
  },
  {
   "cell_type": "code",
   "execution_count": 3,
   "metadata": {},
   "outputs": [],
   "source": [
    "parcels = gpd.read_file(os.path.join(settings.input_dir, \"parcels/AssessorParcels20180823_NoOwners.shp\"))"
   ]
  },
  {
   "cell_type": "markdown",
   "metadata": {},
   "source": [
    "Trim the columns to the ones we need."
   ]
  },
  {
   "cell_type": "code",
   "execution_count": 4,
   "metadata": {},
   "outputs": [],
   "source": [
    "trimmed_parcels = parcels[[\n",
    "    'APN',\n",
    "    'AgPres',\n",
    "    'geometry'\n",
    "]]"
   ]
  },
  {
   "cell_type": "markdown",
   "metadata": {},
   "source": [
    "Clean up the columns"
   ]
  },
  {
   "cell_type": "code",
   "execution_count": 5,
   "metadata": {},
   "outputs": [],
   "source": [
    "cleaned_parcels = trimmed_parcels.rename(columns={\n",
    "    \"APN\": \"apn\",\n",
    "    \"AgPres\": \"is_williamson\"\n",
    "})"
   ]
  },
  {
   "cell_type": "code",
   "execution_count": 6,
   "metadata": {},
   "outputs": [],
   "source": [
    "cleaned_parcels['apn'] = cleaned_parcels.apn.str.replace(\"-\", \"\")"
   ]
  },
  {
   "cell_type": "markdown",
   "metadata": {},
   "source": [
    "Filter down to only those with Williamson Act contracts"
   ]
  },
  {
   "cell_type": "code",
   "execution_count": 7,
   "metadata": {},
   "outputs": [],
   "source": [
    "williamson_parcels = cleaned_parcels[~gpd.pd.isnull(cleaned_parcels.is_williamson)]"
   ]
  },
  {
   "cell_type": "markdown",
   "metadata": {},
   "source": [
    "### Owners"
   ]
  },
  {
   "cell_type": "markdown",
   "metadata": {},
   "source": [
    "Read in the property owners"
   ]
  },
  {
   "cell_type": "code",
   "execution_count": 8,
   "metadata": {},
   "outputs": [],
   "source": [
    "owners = gpd.pd.read_csv(\n",
    "    os.path.join(settings.input_dir, \"owners/CertifiedSecuredRollWithPropChar.txt\"),\n",
    "    quotechar=\"^\",\n",
    "    dtype=str\n",
    ")"
   ]
  },
  {
   "cell_type": "markdown",
   "metadata": {},
   "source": [
    "Trim it down to the columns we want to keep."
   ]
  },
  {
   "cell_type": "code",
   "execution_count": 9,
   "metadata": {},
   "outputs": [],
   "source": [
    "trimmed_owners = owners[[\n",
    "    'APN',\n",
    "    'Primaryowr',\n",
    "    'SecondOwner',\n",
    "    'ConOwner'\n",
    "]]"
   ]
  },
  {
   "cell_type": "markdown",
   "metadata": {},
   "source": [
    "Clean up the columns"
   ]
  },
  {
   "cell_type": "code",
   "execution_count": 10,
   "metadata": {},
   "outputs": [],
   "source": [
    "cleaned_owners = trimmed_owners.rename(columns={\n",
    "    \"APN\": \"apn\",\n",
    "    \"Primaryowr\": \"primary_owner\",\n",
    "    \"SecondOwner\": \"secondary_owner\",\n",
    "    \"ConOwner\": \"contract_owner\"\n",
    "}).fillna(\"\")"
   ]
  },
  {
   "cell_type": "markdown",
   "metadata": {},
   "source": [
    "Merge the parcels with the owners"
   ]
  },
  {
   "cell_type": "code",
   "execution_count": 11,
   "metadata": {},
   "outputs": [],
   "source": [
    "parcels_with_owners = williamson_parcels.merge(cleaned_owners, on=\"apn\", how=\"left\")"
   ]
  },
  {
   "cell_type": "markdown",
   "metadata": {},
   "source": [
    "### Hollister Ranch\n",
    "\n",
    "The ranch is the result of several subdivisions created by Santa Barbara County. We can find them in a shapefile pbulished by the surveyor's office."
   ]
  },
  {
   "cell_type": "code",
   "execution_count": 12,
   "metadata": {},
   "outputs": [],
   "source": [
    "subdivisions = gpd.read_file(os.path.join(settings.input_dir, \"subdivisions/Parcel_Maps.shp\"))"
   ]
  },
  {
   "cell_type": "code",
   "execution_count": 13,
   "metadata": {},
   "outputs": [],
   "source": [
    "trimmed_subdivisions = subdivisions[[\n",
    "    'ID',\n",
    "    'Descript',\n",
    "    'geometry'\n",
    "]]"
   ]
  },
  {
   "cell_type": "code",
   "execution_count": 14,
   "metadata": {},
   "outputs": [],
   "source": [
    "cleaned_subdivisions = trimmed_subdivisions.rename(columns={\n",
    "    \"ID\": \"subdivision_id\",\n",
    "    \"Descript\": \"subdivision_description\",\n",
    "}).fillna(\"\")"
   ]
  },
  {
   "cell_type": "code",
   "execution_count": 15,
   "metadata": {},
   "outputs": [],
   "source": [
    "hollister_subdivisions = cleaned_subdivisions[cleaned_subdivisions.subdivision_id.isin([\n",
    "    'P008/045',\n",
    "    'P009/045',\n",
    "    'P009/032',\n",
    "    'P009/009',\n",
    "])]"
   ]
  },
  {
   "cell_type": "markdown",
   "metadata": {},
   "source": [
    "### Hollister Parcels"
   ]
  },
  {
   "cell_type": "code",
   "execution_count": 16,
   "metadata": {},
   "outputs": [],
   "source": [
    "crs = {'init': 'epsg:4269'}"
   ]
  },
  {
   "cell_type": "code",
   "execution_count": 17,
   "metadata": {},
   "outputs": [],
   "source": [
    "hollister_parcels = gpd.sjoin(\n",
    "    parcels_with_owners.to_crs(crs),\n",
    "    hollister_subdivisions.to_crs(crs),\n",
    "    how=\"inner\",\n",
    "    op='intersects'\n",
    ")"
   ]
  },
  {
   "cell_type": "code",
   "execution_count": 18,
   "metadata": {},
   "outputs": [],
   "source": [
    "hollister_parcels[\"geometry\"] = hollister_parcels[\"geometry\"].apply(lambda geom: geom.wkb)\n",
    "\n",
    "hollister_parcels = hollister_parcels.drop_duplicates([\"geometry\"])\n",
    "\n",
    "# convert back to shapely geometry\n",
    "hollister_parcels[\"geometry\"] = hollister_parcels[\"geometry\"].apply(lambda geom: shapely.wkb.loads(geom))"
   ]
  },
  {
   "cell_type": "markdown",
   "metadata": {},
   "source": [
    "Shave off and add parcels we don't want in the final set."
   ]
  },
  {
   "cell_type": "code",
   "execution_count": 19,
   "metadata": {},
   "outputs": [],
   "source": [
    "hollister_parcels = hollister_parcels[~hollister_parcels.apn.isin([\n",
    "    \"083620016\",\n",
    "    \"083620015\",\n",
    "    \"083570018\",\n",
    "    \"083580018\",\n",
    "    \"083580020\",\n",
    "    \"083580019\",\n",
    "    \"083490048\",\n",
    "    \"083500025\"\n",
    "])]"
   ]
  },
  {
   "cell_type": "markdown",
   "metadata": {},
   "source": [
    "### Export"
   ]
  },
  {
   "cell_type": "code",
   "execution_count": 20,
   "metadata": {},
   "outputs": [],
   "source": [
    "hollister_parcels.to_file(os.path.join(settings.output_dir, \"hollister-parcels.shp\"))"
   ]
  },
  {
   "cell_type": "code",
   "execution_count": 21,
   "metadata": {},
   "outputs": [],
   "source": [
    "hollister_parcels.reset_index().drop(columns=['geometry', 'index_right', 'index']).to_csv(\n",
    "    os.path.join(settings.output_dir, \"hollister-parcels.csv\"),\n",
    "    index=False\n",
    ")"
   ]
  }
 ],
 "metadata": {
  "kernelspec": {
   "display_name": "Python 3",
   "language": "python",
   "name": "python3"
  },
  "language_info": {
   "codemirror_mode": {
    "name": "ipython",
    "version": 3
   },
   "file_extension": ".py",
   "mimetype": "text/x-python",
   "name": "python",
   "nbconvert_exporter": "python",
   "pygments_lexer": "ipython3",
   "version": "3.6.5"
  }
 },
 "nbformat": 4,
 "nbformat_minor": 2
}
