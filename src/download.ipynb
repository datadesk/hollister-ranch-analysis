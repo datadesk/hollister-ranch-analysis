{
 "cells": [
  {
   "cell_type": "markdown",
   "metadata": {},
   "source": [
    "# Download property tax records"
   ]
  },
  {
   "cell_type": "code",
   "execution_count": 2,
   "metadata": {},
   "outputs": [],
   "source": [
    "import os\n",
    "import csv\n",
    "import time\n",
    "import requests\n",
    "import settings"
   ]
  },
  {
   "cell_type": "code",
   "execution_count": 3,
   "metadata": {},
   "outputs": [],
   "source": [
    "class SBAssessorScrape(object):\n",
    "    \"\"\"\n",
    "    A base class with our common scraper tasks.\n",
    "    \"\"\"\n",
    "    headers={\n",
    "        \"User-Agent\": \"Los Angeles Times Data Desk (datadesk@latimes.com)\"\n",
    "    }\n",
    "\n",
    "    def __init__(self, apn, year=2018):\n",
    "        self.apn = apn\n",
    "        self.year = year\n",
    "    \n",
    "    def scrape(self):\n",
    "        if not self.already_scraped:\n",
    "            html = self.get_html(self.url)\n",
    "            self.write(html)\n",
    "            time.sleep(10)\n",
    "        return self.outpath\n",
    "    \n",
    "    @property\n",
    "    def outpath(self):\n",
    "        return f\"{settings.input_dir}/scrape/{self.slug}-{self.apn}-{self.year}.html\"\n",
    "\n",
    "    @property\n",
    "    def already_scraped(self):\n",
    "        return os.path.exists(self.outpath)\n",
    "    \n",
    "    def get_html(self, url):\n",
    "        print(f\"Downloading {self.url} to {self.outpath}\")\n",
    "        return requests.get(self.url, headers=self.headers).text\n",
    "    \n",
    "    def write(self, html):\n",
    "        with open(self.outpath, 'wb') as f:\n",
    "            f.write(html.encode(\"utf-8\"))"
   ]
  },
  {
   "cell_type": "code",
   "execution_count": 4,
   "metadata": {},
   "outputs": [],
   "source": [
    "class DetailsScrape(SBAssessorScrape):\n",
    "    \"\"\"\n",
    "    Scrapes an APN's detail page.\n",
    "    \"\"\"\n",
    "    slug = \"details\"\n",
    "    \n",
    "    @property\n",
    "    def url(self):\n",
    "        return f\"http://sbcassessor.com/assessor/details.aspx?apn={self.apn}\"   "
   ]
  },
  {
   "cell_type": "code",
   "execution_count": 5,
   "metadata": {},
   "outputs": [],
   "source": [
    "class ValueNoticeScrape(SBAssessorScrape):\n",
    "    \"\"\"\n",
    "    Scrapes an APN's value notice page.\n",
    "    \"\"\"\n",
    "    slug = \"valuenotice\"\n",
    "\n",
    "    @property\n",
    "    def url(self):\n",
    "        return f\"http://sbcassessor.com/assessor/ValueNotices.aspx?APN={self.apn}\""
   ]
  },
  {
   "cell_type": "code",
   "execution_count": 6,
   "metadata": {},
   "outputs": [],
   "source": [
    "class BillScrape(SBAssessorScrape):\n",
    "    \"\"\"\n",
    "    Scrapes an APN's bill page.\n",
    "    \"\"\"\n",
    "    slug = \"bill\"\n",
    "\n",
    "    @property\n",
    "    def url(self):\n",
    "        long_apn = f\"{self.apn[:3]}-{self.apn[3:6]}-{self.apn[6:]}\"\n",
    "        return f\"http://taxes.co.santa-barbara.ca.us/propertytax/taxbill.asp?FiscalYear={self.year}&ParcelNumber={long_apn}\""
   ]
  },
  {
   "cell_type": "code",
   "execution_count": 9,
   "metadata": {},
   "outputs": [],
   "source": [
    "apn_list = [row['apn'] for row in csv.DictReader(open(f\"{settings.output_dir}/hollister-parcels.csv\"))]"
   ]
  },
  {
   "cell_type": "code",
   "execution_count": 10,
   "metadata": {},
   "outputs": [],
   "source": [
    "detail_list = dict((apn, DetailsScrape(apn).scrape()) for apn in apn_list)"
   ]
  },
  {
   "cell_type": "code",
   "execution_count": 11,
   "metadata": {},
   "outputs": [],
   "source": [
    "valuenotice_list = dict((apn, ValueNoticeScrape(apn).scrape()) for apn in apn_list)"
   ]
  },
  {
   "cell_type": "code",
   "execution_count": 12,
   "metadata": {},
   "outputs": [],
   "source": [
    "bill_list = dict((apn, BillScrape(apn).scrape()) for apn in apn_list)"
   ]
  }
 ],
 "metadata": {
  "kernelspec": {
   "display_name": "Python 3",
   "language": "python",
   "name": "python3"
  },
  "language_info": {
   "codemirror_mode": {
    "name": "ipython",
    "version": 3
   },
   "file_extension": ".py",
   "mimetype": "text/x-python",
   "name": "python",
   "nbconvert_exporter": "python",
   "pygments_lexer": "ipython3",
   "version": "3.6.5"
  }
 },
 "nbformat": 4,
 "nbformat_minor": 2
}
