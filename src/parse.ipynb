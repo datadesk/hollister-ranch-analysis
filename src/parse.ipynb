{
 "cells": [
  {
   "cell_type": "markdown",
   "metadata": {},
   "source": [
    "# Parse property tax records"
   ]
  },
  {
   "cell_type": "code",
   "execution_count": 1,
   "metadata": {},
   "outputs": [],
   "source": [
    "import re\n",
    "import csv\n",
    "import settings\n",
    "import pandas as pd\n",
    "from bs4 import BeautifulSoup"
   ]
  },
  {
   "cell_type": "code",
   "execution_count": 2,
   "metadata": {},
   "outputs": [],
   "source": [
    "class SBAssessorParse(object):\n",
    "    \"\"\"\n",
    "    A base parser for extracting data from Santa Barbara County Assessor pages.\n",
    "    \"\"\"\n",
    "    def __init__(self, apn, year=2018):\n",
    "        self.apn = apn\n",
    "        self.year = year\n",
    "    \n",
    "    def parse(self):\n",
    "        raise NotImplementedError\n",
    "   \n",
    "    @property\n",
    "    def inpath(self):\n",
    "        return f\"{settings.input_dir}/scrape/{self.slug}-{self.apn}-{self.year}.html\"\n",
    "\n",
    "    def get_soup(self):\n",
    "        with open(self.inpath, 'rb') as f:\n",
    "            data = f.read() \n",
    "        return BeautifulSoup(data, \"html.parser\")\n",
    "    \n",
    "    def safemoney(self, s):\n",
    "        return float(s.strip().replace(\"$\", \"\").replace(\",\", \"\"))"
   ]
  },
  {
   "cell_type": "code",
   "execution_count": 3,
   "metadata": {},
   "outputs": [],
   "source": [
    "class DetailsParse(SBAssessorParse):\n",
    "    \"\"\"\n",
    "    Parse data from APN's detail page.\n",
    "    \"\"\"\n",
    "    slug = 'details'\n",
    "\n",
    "    def parse(self):\n",
    "        soup = self.get_soup()\n",
    "        use = soup.find(text=re.compile(\"Use Description\")).parent.parent.parent.find_all(\"td\")[2].text.strip()\n",
    "        details_net_assessed_value = soup.find(text=re.compile(\"Net Assessed Value\")).parent.parent.parent.find_all(\"td\")[2].text\n",
    "        return {\n",
    "            \"apn\": self.apn,\n",
    "            \"use\": use,\n",
    "            \"details_net_assessed_value\": self.safemoney(details_net_assessed_value),\n",
    "        }"
   ]
  },
  {
   "cell_type": "code",
   "execution_count": 4,
   "metadata": {},
   "outputs": [],
   "source": [
    "class ValueNoticeParse(SBAssessorParse):\n",
    "    \"\"\"\n",
    "    Parse data from APN's valuenotice page.\n",
    "    \"\"\"\n",
    "    slug = \"valuenotice\"\n",
    "    \n",
    "    def parse(self):\n",
    "        soup = self.get_soup()\n",
    "        total_values = soup.find(text=re.compile(\"Total Assessed Value\")).parent.parent.find_all(\"td\")\n",
    "        net_values = soup.find(text=re.compile(\"Net Assessed Value\")).parent.parent.find_all(\"td\")\n",
    "        if len(total_values) == 4:\n",
    "            data = {\n",
    "                \"apn\": self.apn,\n",
    "                \"valuenotice_economic_value\": self.safemoney(total_values[1].text),\n",
    "                \"valuenotice_prop13_value\": self.safemoney(total_values[2].text),\n",
    "                \"valuenotice_total_taxable_value\": self.safemoney(total_values[3].text),\n",
    "            }\n",
    "        elif len(total_values) == 2:\n",
    "            data = {\n",
    "                \"apn\": self.apn,\n",
    "                \"valuenotice_economic_value\": None,\n",
    "                \"valuenotice_prop13_value\": self.safemoney(total_values[1].text),\n",
    "                \"valuenotice_total_taxable_value\": self.safemoney(total_values[1].text),\n",
    "            }\n",
    "        if net_values:\n",
    "            data[\"valuenotice_net_taxable_value\"] = self.safemoney(net_values[-1].text)\n",
    "        return data"
   ]
  },
  {
   "cell_type": "code",
   "execution_count": 5,
   "metadata": {},
   "outputs": [],
   "source": [
    "class BillParse(SBAssessorParse):\n",
    "    \"\"\"\n",
    "    Parse data from APN's valuenotice page.\n",
    "    \"\"\"\n",
    "    slug = 'bill'\n",
    "\n",
    "    def parse(self):\n",
    "        soup = self.get_soup()\n",
    "        bill_total_tax = soup.find(text=re.compile(\"TOTAL TAX\")).parent.parent.parent.parent.parent.parent.find_all(\"td\")[2].text\n",
    "        return {\n",
    "            \"apn\": self.apn,\n",
    "            \"bill_total_tax\": self.safemoney(bill_total_tax)\n",
    "        }"
   ]
  },
  {
   "cell_type": "markdown",
   "metadata": {},
   "source": [
    "Read in all the APNs"
   ]
  },
  {
   "cell_type": "code",
   "execution_count": 6,
   "metadata": {},
   "outputs": [],
   "source": [
    "apn_list = [r['apn'] for r in list(csv.DictReader(open(f\"{settings.output_dir}/hollister-parcels.csv\")))]"
   ]
  },
  {
   "cell_type": "markdown",
   "metadata": {},
   "source": [
    "Run the parsers"
   ]
  },
  {
   "cell_type": "code",
   "execution_count": 7,
   "metadata": {},
   "outputs": [],
   "source": [
    "detail_data = pd.DataFrame([DetailsParse(a).parse() for a in apn_list])"
   ]
  },
  {
   "cell_type": "code",
   "execution_count": 8,
   "metadata": {},
   "outputs": [],
   "source": [
    "valuenotice_data = pd.DataFrame([ValueNoticeParse(a).parse() for a in apn_list])"
   ]
  },
  {
   "cell_type": "code",
   "execution_count": 9,
   "metadata": {},
   "outputs": [],
   "source": [
    "bill_data = pd.DataFrame([BillParse(a).parse() for a in apn_list])"
   ]
  },
  {
   "cell_type": "markdown",
   "metadata": {},
   "source": [
    "Merge them"
   ]
  },
  {
   "cell_type": "code",
   "execution_count": 10,
   "metadata": {},
   "outputs": [],
   "source": [
    "merged_df = bill_data.merge(\n",
    "    pd.merge(\n",
    "        detail_data,\n",
    "        valuenotice_data,\n",
    "        on=\"apn\",\n",
    "        how=\"inner\"\n",
    "    ),\n",
    "    on=\"apn\",\n",
    "    how=\"inner\"\n",
    ")"
   ]
  },
  {
   "cell_type": "markdown",
   "metadata": {},
   "source": [
    "Filter out any that didn't get a Williamson Act assessment"
   ]
  },
  {
   "cell_type": "code",
   "execution_count": 11,
   "metadata": {},
   "outputs": [],
   "source": [
    "merged_df = merged_df[~pd.isnull(merged_df.valuenotice_economic_value)]"
   ]
  },
  {
   "cell_type": "code",
   "execution_count": 12,
   "metadata": {},
   "outputs": [],
   "source": [
    "cleaned_df = merged_df.rename(columns={\n",
    "    \"valuenotice_total_taxable_value\": \"williamson_assessment\",\n",
    "    \"valuenotice_prop13_value\": \"prop13_assessment\",\n",
    "    \"bill_total_tax\": \"williamson_tax\",\n",
    "})"
   ]
  },
  {
   "cell_type": "code",
   "execution_count": 13,
   "metadata": {},
   "outputs": [],
   "source": [
    "trimmed_df = cleaned_df[[\n",
    "    'apn',\n",
    "    'williamson_assessment',\n",
    "    'prop13_assessment',\n",
    "    'williamson_tax'\n",
    "]]"
   ]
  },
  {
   "cell_type": "markdown",
   "metadata": {},
   "source": [
    "Merge it with the shapefile"
   ]
  },
  {
   "cell_type": "code",
   "execution_count": 14,
   "metadata": {},
   "outputs": [],
   "source": [
    "parcels_df = pd.read_csv(f\"{settings.output_dir}/hollister-parcels.csv\", dtype={\"apn\": str})"
   ]
  },
  {
   "cell_type": "code",
   "execution_count": 15,
   "metadata": {},
   "outputs": [],
   "source": [
    "analysis_df = parcels_df.merge(trimmed_df, on=\"apn\", how=\"inner\")"
   ]
  },
  {
   "cell_type": "markdown",
   "metadata": {},
   "source": [
    "Output"
   ]
  },
  {
   "cell_type": "code",
   "execution_count": 16,
   "metadata": {},
   "outputs": [],
   "source": [
    "analysis_df.to_csv(f\"{settings.output_dir}/parsed.csv\", index=False, encoding=\"utf-8\")"
   ]
  }
 ],
 "metadata": {
  "kernelspec": {
   "display_name": "Python 3",
   "language": "python",
   "name": "python3"
  },
  "language_info": {
   "codemirror_mode": {
    "name": "ipython",
    "version": 3
   },
   "file_extension": ".py",
   "mimetype": "text/x-python",
   "name": "python",
   "nbconvert_exporter": "python",
   "pygments_lexer": "ipython3",
   "version": "3.6.5"
  }
 },
 "nbformat": 4,
 "nbformat_minor": 2
}
